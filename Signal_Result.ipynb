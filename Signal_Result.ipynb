{
 "cells": [
  {
   "cell_type": "code",
   "execution_count": 8,
   "id": "4f493d2e-024e-4d22-921c-8245b01f96a7",
   "metadata": {},
   "outputs": [],
   "source": [
    "img_path='/home/hitech/novus/incabin/Traffic Signal Recognition/traffic_Data/TEST/015_1_0012.png'"
   ]
  },
  {
   "cell_type": "code",
   "execution_count": 9,
   "id": "d5f6892d-684c-46cc-a07f-e49c606273b2",
   "metadata": {},
   "outputs": [],
   "source": [
    "import pandas as pd\n",
    "import tensorflow as tf"
   ]
  },
  {
   "cell_type": "code",
   "execution_count": 10,
   "id": "0210c69b-3650-4ff2-a9e8-acd48179e9d0",
   "metadata": {},
   "outputs": [
    {
     "name": "stdout",
     "output_type": "stream",
     "text": [
      "Found 4170 files belonging to 58 classes.\n",
      "Using 3336 files for training.\n"
     ]
    }
   ],
   "source": [
    "dataset='/home/hitech/novus/incabin/Traffic Signal Recognition/traffic_Data/DATA'\n",
    "\n",
    "train_ds=tf.keras.preprocessing.image_dataset_from_directory(dataset,validation_split=0.2,subset='training',\n",
    "                                                            image_size=(224,224),seed=123,batch_size=32)\n",
    "class_numbers=train_ds.class_names\n",
    "labelfile=pd.read_csv('labels.csv')\n",
    "class_names=[]\n",
    "for i in class_numbers:\n",
    "    class_names.append(labelfile['Name'][int(i)])"
   ]
  },
  {
   "cell_type": "code",
   "execution_count": 11,
   "id": "cf48c1e7-fb46-4a1c-8b52-2463681c8d10",
   "metadata": {},
   "outputs": [],
   "source": [
    "import numpy as np\n",
    "from keras.preprocessing import image\n",
    "from tensorflow.keras.models import load_model\n",
    "traffic_model=load_model('traffic_signal_model.h5')"
   ]
  },
  {
   "cell_type": "code",
   "execution_count": 12,
   "id": "3682e4bf-789a-4012-85a6-521d3215f6db",
   "metadata": {},
   "outputs": [],
   "source": [
    "def preprocess_img(img_path):\n",
    "    img = image.load_img(img_path, target_size=(224, 224))\n",
    "    img_array = image.img_to_array(img)\n",
    "    img_array = np.expand_dims(img_array, axis=0)\n",
    "    return img_array"
   ]
  },
  {
   "cell_type": "code",
   "execution_count": 13,
   "id": "9e164923-aaab-4a26-8165-d735f7049d44",
   "metadata": {},
   "outputs": [],
   "source": [
    "def signal_name():\n",
    "    img_array=preprocess_img(img_path)\n",
    "    predictions=traffic_model.predict(img_array)\n",
    "    predictions = traffic_model.predict(img_array)\n",
    "\n",
    "    predicted_class = np.argmax(predictions, axis=1)\n",
    "    signal=class_names[int(predicted_class)]\n",
    "\n",
    "    return signal "
   ]
  },
  {
   "cell_type": "code",
   "execution_count": 14,
   "id": "e07976a0-eea6-4c96-b42f-5472b6ea9fe2",
   "metadata": {},
   "outputs": [
    {
     "name": "stdout",
     "output_type": "stream",
     "text": [
      "1/1 [==============================] - 0s 124ms/step\n",
      "1/1 [==============================] - 0s 45ms/step\n",
      "Dont overtake from Left\n"
     ]
    }
   ],
   "source": [
    "print(signal_name())"
   ]
  },
  {
   "cell_type": "code",
   "execution_count": null,
   "id": "ee021ffa-245e-4eab-ad15-8fb7f61ced45",
   "metadata": {},
   "outputs": [],
   "source": []
  },
  {
   "cell_type": "code",
   "execution_count": null,
   "id": "f714b6b6-4cc3-4033-909b-75087424e61d",
   "metadata": {},
   "outputs": [],
   "source": []
  }
 ],
 "metadata": {
  "kernelspec": {
   "display_name": "Python 3 (ipykernel)",
   "language": "python",
   "name": "python3"
  },
  "language_info": {
   "codemirror_mode": {
    "name": "ipython",
    "version": 3
   },
   "file_extension": ".py",
   "mimetype": "text/x-python",
   "name": "python",
   "nbconvert_exporter": "python",
   "pygments_lexer": "ipython3",
   "version": "3.8.10"
  }
 },
 "nbformat": 4,
 "nbformat_minor": 5
}
